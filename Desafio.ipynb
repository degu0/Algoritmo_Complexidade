{
  "nbformat": 4,
  "nbformat_minor": 0,
  "metadata": {
    "colab": {
      "provenance": [],
      "authorship_tag": "ABX9TyPf3HU/zgbOIgrTxXiCQFHX",
      "include_colab_link": true
    },
    "kernelspec": {
      "name": "python3",
      "display_name": "Python 3"
    },
    "language_info": {
      "name": "python"
    }
  },
  "cells": [
    {
      "cell_type": "markdown",
      "metadata": {
        "id": "view-in-github",
        "colab_type": "text"
      },
      "source": [
        "<a href=\"https://colab.research.google.com/github/degu0/Algoritmo_Complexidade/blob/main/Desafio.ipynb\" target=\"_parent\"><img src=\"https://colab.research.google.com/assets/colab-badge.svg\" alt=\"Open In Colab\"/></a>"
      ]
    },
    {
      "cell_type": "code",
      "execution_count": 1,
      "metadata": {
        "colab": {
          "base_uri": "https://localhost:8080/"
        },
        "id": "TCEfXHyXi_f4",
        "outputId": "92c4a4ff-dfb7-41a9-88d9-d256863fada4"
      },
      "outputs": [
        {
          "output_type": "stream",
          "name": "stdout",
          "text": [
            "Requirement already satisfied: requests in /usr/local/lib/python3.12/dist-packages (2.32.4)\n",
            "Requirement already satisfied: beautifulsoup4 in /usr/local/lib/python3.12/dist-packages (4.13.5)\n",
            "Requirement already satisfied: charset_normalizer<4,>=2 in /usr/local/lib/python3.12/dist-packages (from requests) (3.4.3)\n",
            "Requirement already satisfied: idna<4,>=2.5 in /usr/local/lib/python3.12/dist-packages (from requests) (3.10)\n",
            "Requirement already satisfied: urllib3<3,>=1.21.1 in /usr/local/lib/python3.12/dist-packages (from requests) (2.5.0)\n",
            "Requirement already satisfied: certifi>=2017.4.17 in /usr/local/lib/python3.12/dist-packages (from requests) (2025.8.3)\n",
            "Requirement already satisfied: soupsieve>1.2 in /usr/local/lib/python3.12/dist-packages (from beautifulsoup4) (2.8)\n",
            "Requirement already satisfied: typing-extensions>=4.0.0 in /usr/local/lib/python3.12/dist-packages (from beautifulsoup4) (4.15.0)\n"
          ]
        }
      ],
      "source": [
        "# Instalação\n",
        "!pip install requests beautifulsoup4"
      ]
    },
    {
      "cell_type": "code",
      "source": [
        "import requests\n",
        "from bs4 import BeautifulSoup\n",
        "import csv\n",
        "\n",
        "url = \"https://jc.uol.com.br/\"\n",
        "response = requests.get(url)\n",
        "\n",
        "soup = BeautifulSoup(response.content, \"html.parser\")\n",
        "\n",
        "boxes = soup.find_all(class_=\"box\")\n",
        "\n",
        "notices = []\n",
        "\n",
        "for box in boxes:\n",
        "  links = box.find_all(\"a\")\n",
        "  titles = box.find_all(class_=\"title\")\n",
        "  for title, link in zip(titles, links):\n",
        "    notices.append({\"Title\": title.text, \"Link\": link.get(\"href\")})\n",
        "\n",
        "for notice in notices:\n",
        "  for title, link in notice.items():\n",
        "    print(f\"{title}: {link}\")\n",
        "\n",
        "\n",
        "with open(\"uol_news.csv\", \"w\", newline=\"\", encoding=\"utf-8\") as file:\n",
        "    writer = csv.DictWriter(file, fieldnames=[\"Title\", \"Link\"])\n",
        "    writer.writeheader()\n",
        "    writer.writerows(notices)"
      ],
      "metadata": {
        "colab": {
          "base_uri": "https://localhost:8080/"
        },
        "id": "1KfZ6fuGjXOX",
        "outputId": "afa16b1c-95a1-4dd3-99a5-f9d2560d6d23"
      },
      "execution_count": 41,
      "outputs": [
        {
          "output_type": "stream",
          "name": "stdout",
          "text": [
            "Title: Fux vota para absolver Bolsonaro de todos os crimes relacionados à trama golpista\n",
            "Link: https://jc.uol.com.br/politica/2025/09/10/fux-vota-para-absolver-bolsonaro-de-todos-os-crimes-relacionados-a-trama-golpista.html\n",
            "Title: Fux vota para absolver Bolsonaro de todos os crimes relacionados à trama golpista\n",
            "Link: https://jc.uol.com.br/politica/2025/09/10/fux-vota-para-absolver-bolsonaro-de-todos-os-crimes-relacionados-a-trama-golpista.html\n",
            "Title: JC e Educa realizam um dos maiores eventos sobre educação do País, com Rossandro Klinjey e convidados\n",
            "Link: https://jc.uol.com.br/jc-educacao/2025/09/10/jc-e-educa-realizam-um-dos-maiores-eventos-sobre-educacao-do-pais-com-rossandro-klinjey-e-convidados-veja-como-assistir.html\n",
            "Title: Frota de motocicletas ultrapassa a de carros pela primeira vez em Pernambuco e produção nacional bate novo recorde\n",
            "Link: https://jc.uol.com.br/https//jc-uol-com-br/colunas/mobilidade/2025/09/10/frota-de-motocicletas-ultrapassa-a-de-carros-pela-primeira-vez-em-pernambuco-e-producao-nacional-bate-novo-recorde-onde-vamos-parar.html\n",
            "Title: Buraco no SUS: milhões precisam de bariátrica, mas rede pública não dá conta\n",
            "Link: https://jc.uol.com.br/colunas/saude-e-bem-estar/2025/09/09/buraco-no-sus-milhoes-precisam-de-cirurgia-bariatrica-mas-rede-publica-nao-da-conta.html\n",
            "Title: Lei dos 12 bairros x Uso e Ocupação: Recife garante ampliar regras urbanísticas para construção\n",
            "Link: https://jc.uol.com.br/colunas/metro-quadrado/2025/09/10/lei-dos-12-bairros-x-uso-e-ocupacao-recife-garante-ampliar-regras-urbanisticas-para-construcao-entenda-o-que-esta-em-jogo.html\n",
            "Title: Cozzi Restaurantes Industriais: empresa pernambucana completa 15 anos em plena expansão nacional\n",
            "Link: https://jc.uol.com.br/jc360/2025/09/10/cozzi-restaurantes-industriais-empresa-pernambucana-completa-15-anos-em-plena-expansao-nacional.html\n",
            "Title: Pernambuco é o segundo estado com mais medalhas na ONHB da Unicamp\n",
            "Link: https://jc.uol.com.br/jc360/2025/09/04/pernambuco-e-o-segundo-estado-com-mais-medalhas-na-onhb-da-unicamp.html\n",
            "Title: Futuro da energia sustentável: CONIBEN 2025 e o crescimento de investimentos renováveis\n",
            "Link: https://jc.uol.com.br/colunas/jc-negocios/2025/09/04/futuro-da-energia-sustentavel-coniben-2025-e-o-crescimento-de-investimentos-renovaveis.html\n",
            "Title: Trama Moda Pernambuco conecta moda, criatividade e negócios no Estado\n",
            "Link: https://jc.uol.com.br/jc360/2025/09/03/trama-moda-pernambuco-conecta-moda-criatividade-e-negocios-no-estado.html\n",
            "Title: Restaurante localizado na Zona Norte sofre repetidas invasões durante a madrugada\n",
            "Link: https://jc.uol.com.br/tv-jornal/videos/2025/09/10/restaurante-localizado-na-zona-norte-sofre-repetidas-invasoes-durante-a-madrugada.html\n",
            "Title: Homem é morto após tentativa de furto no Centro do Recife\n",
            "Link: https://jc.uol.com.br/tv-jornal/videos/2025/09/10/homem-e-morto-apos-tentativa-de-furto-no-centro-do-recife.html\n",
            "Title: Ônibus é incendiado após ataque armado na Zona Norte do Recife\n",
            "Link: https://jc.uol.com.br/tv-jornal/videos/2025/09/10/onibus-e-incendiado-apos-ataque-armado-na-zona-norte-do-recife.html\n",
            "Title: Edifício em Boa Viagem é alvo de nova tentativa de furto\n",
            "Link: https://jc.uol.com.br/tv-jornal/videos/2025/09/10/edificio-em-boa-viagem-e-alvo-de-nova-tentativa-de-furto.html\n",
            "Title: Prefeitura diz que menina morta após espancamento em escola saiu do hospital sem autorização médica; família rebate informação\n",
            "Link: https://jc.uol.com.br/pernambuco/2025/09/09/prefeitura-diz-que-menina-morta-apos-espancamento-em-escola-saiu-do-hospital-sem-autorizacao-medica-familia-rebate-informacao.html\n",
            "Title: Feira de adoção no Recife busca novos lares para cães e gatos resgatados\n",
            "Link: https://jc.uol.com.br/meu-pet/2025/09/09/feira-de-adocao-no-recife-busca-novos-lares-para-caes-e-gatos-resgatados.html\n",
            "Title: \n",
            "                                                        Estudante faz descoberta inédita sobre comportamento reprodutivo de pererecas macho em Pernambuco\n",
            "                                                    \n",
            "Link: https://jc.uol.com.br/pernambuco/2025/09/10/estudante-da-ufrpe-faz-descoberta-inedita-mundial-sobre-comportamento-reprodutivo-de-pererecas-macho-em-pernambuco.html\n",
            "Title: \n",
            "                                                        Alepe anula CPI da Publicidade após impasses e convoca nova formação\n",
            "                                                    \n",
            "Link: https://jc.uol.com.br/politica/2025/09/10/alepe-anula-instalacao-da-cpi-da-publicidade-apos-impasses-judiciais-e-convoca-nova-formacao.html\n",
            "Title: \n",
            "                                                        Mensalidade não compra censura: Escola existe para ampliar o mundo do seu filho, não para reforçar sua bolha!\n",
            "                                                    \n",
            "Link: https://jc.uol.com.br/colunas/enem-e-educacao/2025/09/10/mensalidade-nao-compra-censura-escola-existe-para-ampliar-o-mundo-do-seu-filho-nao-para-reforcar-sua-bolha.html\n",
            "Title: Previsão do tempo: Grande Recife amanhece nesta quinta-feira (11) com céu nublado e possibilidade de chuva fraca\n",
            "Link: https://jc.uol.com.br/pernambuco/2025/09/11/previsao-do-tempo-grande-recife-amanhece-nesta-quinta-feira-11-com-ceu-nublado-e-possibilidade-de-chuva-fraca.html\n",
            "Title: Adeildo Nunes: O Encontro Nacional de Execução Penal\n",
            "Link: https://jc.uol.com.br/opiniao/artigo/2025/09/11/adeildo-nunes-o-encontro-nacional-de-execucao-penal.html\n",
            "Title: Paulo Roberto Cannizzaro: O ataque as garantias constitucionais e a perda do humor nacional\n",
            "Link: https://jc.uol.com.br/opiniao/artigo/2025/09/11/paulo-roberto-cannizzaro-o-ataque-as-garantias-constitucionais-e-a-perda-do-humor-nacional.html\n",
            "Title: Voz do Leitor 11.09: Desordem na Praça Dom Vital\n",
            "Link: https://jc.uol.com.br/opiniao/voz-do-leitor/2025/09/11/voz-do-leitor-11-09-desordem-na-praca-dom-vital.html\n",
            "Title: Inflação em queda não baixa Selic baixar, mas redução no preço dos alimentos é tudo que Lula precisa para manter sua briga com Trump\n",
            "Link: https://jc.uol.com.br/colunas/jc-negocios/2025/09/11/inflacao-em-queda-nao-baixa-selic-baixar-mas-reducao-no-preco-dos-alimentos-e-tudo-que-lula-precisa-para-manter-sua-briga-com-trump.html\n",
            "Title: Divergência é bom sinal\n",
            "Link: https://jc.uol.com.br/opiniao/editorial/2025/09/11/divergencia-e-bom-sinal.html\n",
            "Title: Flávio Ricco: Uma nova aposta: quem tem a imagem mais suja no ar?\n",
            "Link: https://jc.uol.com.br/colunas/canal-1/2025/09/11/flavio-ricco-uma-nova-aposta-quem-tem-a-imagem-mais-suja-no-ar.html\n",
            "Title: Filhos de Bolsonaro exaltam voto de Fux nas redes sociais e pedem anulação de julgamento\n",
            "Link: https://jc.uol.com.br/politica/2025/09/10/filhos-de-bolsonaro-exaltam-voto-de-fux-nas-redes-sociais-e-pedem-anulacao-de-julgamento.html\n",
            "Title: SAF do Santa Cruz: confira os valores milionários que serão investidos no futebol do clube\n",
            "Link: https://jc.uol.com.br/blog-do-torcedor/santa-cruz/2025/09/10/saf-do-santa-cruz-confira-os-valores-milionarios-que-serao-investidos-no-clube.html\n",
            "Title: Santa Cruz divulga divisão dos valores da SAF para reforma milionária do Estádio do Arruda\n",
            "Link: https://jc.uol.com.br/blog-do-torcedor/santa-cruz/2025/09/10/santa-cruz-divulga-divisao-dos-valores-da-saf-para-reforma-milionario-do-estadio-do-arruda.html\n",
            "Title: Santa Cruz: Maranhão precisa definir até esta quinta (11/09) se transfere jogo para Paraíba\n",
            "Link: https://jc.uol.com.br/blog-do-torcedor/santa-cruz/2025/09/10/santa-cruz-maranhao-precisa-definir-ate-esta-quinta-11-09-se-transfere-jogo-para-paraiba.html\n",
            "Title: Santa Cruz confirma projeto para investimento em novo CT; confira prazo\n",
            "Link: https://jc.uol.com.br/blog-do-torcedor/santa-cruz/2025/09/10/santa-cruz-confirma-projeto-para-investimento-em-novo-ct-confira-prazo.html\n",
            "Title: \"O bom cinema é o que tem o sabor particular\": Kleber Mendonça Filho fala sobre o olhar pessoal dentro de projetos cinematográficos\n",
            "Link: https://jc.uol.com.br/social1/filmes/2025/09/10/o-bom-cinema-e-o-que-tem-o-sabor-particular-kleber-mendonca-filho-fala-sobre-o-olhar-pessoal-dentro-de-projetos-cinematograficos.html\n",
            "Title: 5 doramas incríveis onde o vilão se apaixona pela mocinha\n",
            "Link: https://jc.uol.com.br/social1/series/doramas/2025/09/05/5-doramas-incriveis-onde-o-vilao-se-apaixona-pela-mocinha.html\n",
            "Title: O futuro da beleza probiótica: bactérias que ajudam a pele a se defender\n",
            "Link: https://jc.uol.com.br/social1/beleza/2025/09/10/o-futuro-da-beleza-probiotica-bacterias-que-ajudam-a-pele-a-se-defender.html\n",
            "Title: Cabelo x clima: como cada estação do ano muda a saúde dos fios\n",
            "Link: https://jc.uol.com.br/social1/beleza/cabelo/2025/09/10/cabelo-x-clima-como-cada-estacao-do-ano-muda-a-saude-dos-fios.html\n",
            "Title: As séries brasileiras que fazem muito sucesso em outros países\n",
            "Link: https://jc.uol.com.br/social1/series/2025/09/10/as-series-brasileiras-que-fazem-muito-sucesso-em-outros-paises.html\n",
            "Title: Cerveja brasileira do interior de SP é eleita a melhor do mundo em um dos maiores concursos cervejeiros internacionais\n",
            "Link: https://receitadaboa.com.br/cerveja-brasileira-do-interior-de-sp-e-eleita-a-melhor-do-mundo-em-um-dos-maiores-concursos-cervejeiros-internacionais/\n",
            "Title: Café paulista cria cardápio exclusivo inspirado em memes\n",
            "Link: https://receitadaboa.com.br/cafe-paulista-cria-cardapio-exclusivo-inspirado-em-memes/\n",
            "Title: 8 receitas para jantar simples\n",
            "Link: https://receitadaboa.com.br/8-receitas-para-jantar-simples/\n",
            "Title: 5 receitas com pasta de amendoim saborosas\n",
            "Link: https://receitadaboa.com.br/5-receitas-com-pasta-de-amendoim-saborosas/\n",
            "Title: BR-232 interditada: Nova interdição da BR-232 na saída do Recife já tem data para acontecer. Confira\n",
            "Link: https://jc.uol.com.br/colunas/mobilidade/2025/09/08/br-232-interditada-nova-interdicao-da-br-232-na-saida-do-recife-ja-tem-data-para-acontecer-confira.html\n",
            "Title: Após \"pendências\" da Campus Party, Governo de Pernambuco suspende edição de 2025; Entenda\n",
            "Link: https://jc.uol.com.br/economia/2025/09/08/apos-pendencias-da-campus-party-governo-de-pernambuco-suspende-edicao-de-2025-entenda.html\n",
            "Title: Dia do Veterinário: veja frases e belas mensagens em homenagem aos profissionais\n",
            "Link: https://jc.uol.com.br/colunas/saude-e-bem-estar/2023/09/15589565-dia-do-veterinario-frases-veja-belas-mensagens-em-homenagem-ao-dia-do-veterinario.html\n",
            "Title: Mapa imobiliário do Recife muda e faz crescer novos bairros; veja as melhores áreas da cidade\n",
            "Link: https://jc.uol.com.br/colunas/metro-quadrado/2025/09/06/mapa-imobiliario-do-recife-muda-e-faz-crescer-novos-bairros-veja-as-melhores-areas-da-cidade.html\n",
            "Title: Dalbert e Titi Ortíz, de saída do Sport, realizam exames médicos no América-MG\n",
            "Link: https://blogdotorcedor.com.br/sport/2025/07/24/dalbert-e-titi-ortiz-de-saida-do-sport-realizam-exames-medicos-no-america-mg.html\n",
            "Title: Sport x Santos: confira provável escalação do Leão da Ilha e desfalques\n",
            "Link: https://blogdotorcedor.com.br/sport/2025/07/24/sport-x-santos-confira-provavel-escalacao-do-leao-da-ilha-e-desfalques.html\n",
            "Title: Sport precisa repetir campanha do Mirassol para evitar queda à Série B\n",
            "Link: https://blogdotorcedor.com.br/sport/2025/07/24/sport-precisa-repetir-campanha-do-mirassol-para-evitar-queda-a-serie-b.html\n",
            "Title: Sport divulga parcial de ingressos para duelo contra o Santos\n",
            "Link: https://blogdotorcedor.com.br/sport/2025/07/24/sport-divulga-parcial-de-ingressos-para-duelo-contra-o-santos.html\n",
            "Title: Carvalheira na Ladeira recebe mais uma vez o certificado de Lixo Zero\n",
            "Link: https://jc.uol.com.br/social1/joao-alberto/2025/09/10/carvalheira-na-ladeira-recebe-mais-uma-vez-o-certificado-de-lixo-zero.html\n",
            "Title: Pedro Godoy e Eduardo Freyre celebram vinhos naturais com Carlos Sanabria\n",
            "Link: https://jc.uol.com.br/social1/joao-alberto/2025/09/09/pedro-godoy-e-eduardo-freyre-celebram-vinhos-naturais-com-carlos-sanabria.html\n",
            "Title: Confira mais registros do evento: \n",
            "Link: https://jc.uol.com.br/social1/joao-alberto/2025/09/01/confira-mais-registros-do-evento.html\n",
            "Title: Aniversário do Novotel Recife Marina é marcado por evento especial\n",
            "Link: https://jc.uol.com.br/social1/joao-alberto/2025/08/12/aniversario-do-novotel-recife-marina-e-marcado-por-evento-especial.html\n"
          ]
        }
      ]
    }
  ]
}